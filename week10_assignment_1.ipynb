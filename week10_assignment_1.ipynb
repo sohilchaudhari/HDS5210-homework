{
  "cells": [
    {
      "cell_type": "markdown",
      "metadata": {
        "id": "view-in-github",
        "colab_type": "text"
      },
      "source": [
        "<a href=\"https://colab.research.google.com/github/sohilchaudhari/HDS5210-homework/blob/main/week10_assignment_1.ipynb\" target=\"_parent\"><img src=\"https://colab.research.google.com/assets/colab-badge.svg\" alt=\"Open In Colab\"/></a>"
      ]
    },
    {
      "cell_type": "markdown",
      "metadata": {
        "id": "kMXZobzBQr5d"
      },
      "source": [
        "# Week 9 Assignment"
      ]
    },
    {
      "cell_type": "markdown",
      "metadata": {
        "id": "YYU7v9hGQr5f"
      },
      "source": [
        "We had two major areas of discussion this week.  The first was all about how to work with string data - parsing and splitting strings using basic string fuctions as well as more complex string matching using regular expressions.  The second was a basic introduction to Pandas with a few different examples of how to load data into Pandas and then visualize it using graphs (histogram, distribution, scatter, bar, timeseries).\n",
        "\n",
        "Test your knowledge of the content from the lectures through the multiple choice questions below.\n",
        "\n",
        "---\n",
        "---"
      ]
    },
    {
      "cell_type": "markdown",
      "metadata": {
        "id": "OpucUzoJQr5g"
      },
      "source": [
        "### 36.1 What is the output of the following code?\n",
        "\n",
        "```python\n",
        "print('hi' * 3)\n",
        "```\n",
        "\n",
        "> A) `hihihi`\n",
        ">\n",
        "> B) `hhhiii`\n",
        ">\n",
        "> C) `hi,hi,hi`\n",
        ">\n",
        "> D) `['hi','hi','hi']`"
      ]
    },
    {
      "cell_type": "code",
      "execution_count": 1,
      "metadata": {
        "id": "Mp5nMP8yQr5h"
      },
      "outputs": [],
      "source": [
        "answers = {}\n",
        "answers['36.1'] = \"A\""
      ]
    },
    {
      "cell_type": "markdown",
      "metadata": {
        "id": "nb1NGJz-Qr5i"
      },
      "source": [
        "### 36.2 What is the result of the code below?\n",
        "```python\n",
        "age=10\n",
        "print('Teddy just turned ' + age)\n",
        "```\n",
        "\n",
        "> A) `Teddy just turned 10`\n",
        ">\n",
        "> B) `Teddy just turned X`\n",
        ">\n",
        "> C) `Teddy just turned Teedy just turned Teedy just turned Teedy just turned Teedy just turned Teedy just turned Teedy just turned Teedy just turned Teedy just turned Teedy just turned`\n",
        ">\n",
        "> D) An error message"
      ]
    },
    {
      "cell_type": "code",
      "execution_count": 2,
      "metadata": {
        "id": "UneoBJBXQr5i"
      },
      "outputs": [],
      "source": [
        "answers['36.2'] = \"D\""
      ]
    },
    {
      "cell_type": "markdown",
      "metadata": {
        "id": "GZjDGcgYQr5i"
      },
      "source": [
        "### 36.3 How long is the `parts` list that results from the code below?\n",
        "\n",
        "```python\n",
        "parts = \"Now that I'm a data scientist with 1 year of experience,\n",
        "I will have 3,000 new friends!\".split(\", \")\n",
        "```\n",
        "\n",
        "> A) None.  The code will fail.\n",
        ">\n",
        "> B) 2\n",
        ">\n",
        "> C) 3\n",
        ">\n",
        "> D) 4"
      ]
    },
    {
      "cell_type": "code",
      "execution_count": 3,
      "metadata": {
        "id": "AGPb9GU0Qr5j"
      },
      "outputs": [],
      "source": [
        "answers['36.3'] = \"A\""
      ]
    },
    {
      "cell_type": "markdown",
      "source": [],
      "metadata": {
        "id": "FL-Gy8VYRTsk"
      }
    },
    {
      "cell_type": "markdown",
      "metadata": {
        "id": "yV8vVBhjQr5j"
      },
      "source": [
        "### 36.4 How long is the `parts` list that results from the subtly different code below?\n",
        "\n",
        "```python\n",
        "parts = \"Now that I'm a data scientist with 1 year of experience, I will have 3,000 new friends!\".split(\",\")\n",
        "```\n",
        "\n",
        "> A) None.  The code will fail.\n",
        ">\n",
        "> B) 2\n",
        ">\n",
        "> C) 3\n",
        ">\n",
        "> D) 4"
      ]
    },
    {
      "cell_type": "code",
      "execution_count": 4,
      "metadata": {
        "id": "SShkBPg1Qr5j"
      },
      "outputs": [],
      "source": [
        "answers['36.4'] = \"C\""
      ]
    },
    {
      "cell_type": "markdown",
      "metadata": {
        "id": "MQorRMNFQr5k"
      },
      "source": [
        "### 38.1 How do you access a list of all the column names in a data frame?\n",
        "\n",
        "```python\n",
        "data = read_excel('my_file.xlsx')\n",
        "```\n",
        "\n",
        "> A) `len(data)`\n",
        ">\n",
        "> B) `data.shape[0]`\n",
        ">\n",
        "> C) `data.columns`\n",
        ">\n",
        "> D) `data.names`"
      ]
    },
    {
      "cell_type": "code",
      "execution_count": 5,
      "metadata": {
        "id": "DkeHMlH8Qr5k"
      },
      "outputs": [],
      "source": [
        "answers['38.1'] = \"C\""
      ]
    },
    {
      "cell_type": "markdown",
      "metadata": {
        "id": "tdNtoyCuQr5k"
      },
      "source": [
        "### 38.2 Can the following data be converted directly to a dataframe?\n",
        "\n",
        "```python\n",
        "names = [\n",
        "    ['Paul','Boal','E'],\n",
        "    ['Eric','Westhus','D'],\n",
        "    ['Bill','Jones','A']\n",
        "]\n",
        "\n",
        "data = pd.DataFrame(names)\n",
        "```\n",
        "\n",
        "> A) True\n",
        ">\n",
        "> B) False"
      ]
    },
    {
      "cell_type": "code",
      "execution_count": 6,
      "metadata": {
        "id": "e5NY_GucQr5k"
      },
      "outputs": [],
      "source": [
        "answers['38.2'] = \"A\""
      ]
    },
    {
      "cell_type": "markdown",
      "metadata": {
        "id": "VEih1IucQr5l"
      },
      "source": [
        "### 38.3 How many rows and columns does the code below produce?\n",
        "```python\n",
        "people = [\n",
        "    { 'first': 'Paul', 'last': 'Boal', 'middle': 'E' },\n",
        "    { 'first': 'Eric', 'last': 'Westhus', 'middle': 'D'},\n",
        "    { 'first': 'Bill', 'last': 'Jones', 'middle': 'A'},\n",
        "    { 'first': 'Walter', 'last': 'Cronkite'},\n",
        "    { 'first': 'Eddie', 'last': 'Murphy'},\n",
        "    { 'first': 'Cher'}\n",
        "]\n",
        "pd.DataFrame(people)\n",
        "```\n",
        "\n",
        "> A) 6 columns, 3 rows\n",
        ">\n",
        "> B) 14 rows, 1 column\n",
        ">\n",
        "> C) 6 rows, 3 columns\n",
        ">\n",
        "> D) Nothing.  It's invalid code."
      ]
    },
    {
      "cell_type": "code",
      "execution_count": 7,
      "metadata": {
        "id": "xJpJR7nkQr5l"
      },
      "outputs": [],
      "source": [
        "answers['38.3'] = \"C\""
      ]
    },
    {
      "cell_type": "markdown",
      "metadata": {
        "id": "-WNL5XacQr5l"
      },
      "source": [
        "---\n",
        "\n",
        "Checking Your Work\n",
        "---\n",
        "\n",
        "After completing your work above and running each cell, you can check your answers by running the code below.\n",
        "\n",
        "The easiest way to do this is to use the `Kernel` -> `Restart Kernel and Run All Cells` menu option. This option restarts Python and runs every cell from top to bottom until it encounters an exception of some kind.  It will stop after running the cell below and outputing a summary of how many answers you have correct or incorrect.\n"
      ]
    },
    {
      "cell_type": "code",
      "execution_count": 8,
      "metadata": {
        "colab": {
          "base_uri": "https://localhost:8080/"
        },
        "id": "37d4f3BwQr5l",
        "outputId": "43f9a8c5-f346-4d93-94c9-a83a734f7005"
      },
      "outputs": [
        {
          "output_type": "stream",
          "name": "stdout",
          "text": [
            "Question 36.1 is CORRECT\n",
            "Question 36.2 is CORRECT\n",
            "Question 36.3 is CORRECT\n",
            "Question 36.4 is CORRECT\n",
            "Question 38.1 is CORRECT\n",
            "Question 38.2 is CORRECT\n",
            "Question 38.3 is CORRECT\n"
          ]
        }
      ],
      "source": [
        "import pickle\n",
        "\n",
        "data = b'\\x80\\x04\\x95J\\x00\\x00\\x00\\x00\\x00\\x00\\x00}\\x94(\\x8c\\x0436.1\\x94\\x8c\\x01A\\x94\\x8c\\x0436.2\\x94\\x8c\\x01D\\x94\\x8c\\x0436.3\\x94h\\x02\\x8c\\x0436.4\\x94\\x8c\\x01C\\x94\\x8c\\x0438.1\\x94h\\x07\\x8c\\x0438.2\\x94h\\x02\\x8c\\x0438.3\\x94h\\x07u.'\n",
        "result = pickle.loads(data)\n",
        "\n",
        "for key in result:\n",
        "  if answers[key] == result[key]:\n",
        "    print(f\"Question {key} is CORRECT\")\n",
        "  else:\n",
        "    print(f\"Question {key} is INCORRECT\")"
      ]
    },
    {
      "cell_type": "markdown",
      "metadata": {
        "id": "UKSs5W42Qr5m"
      },
      "source": [
        "---\n",
        "\n",
        "## Check your work above\n",
        "\n",
        "If you didn't get them all correct, take a few minutes to think through those that aren't correct.\n",
        "\n",
        "\n",
        "## Submitting Your Work\n",
        "\n",
        "In order to submit your work, you'll need to save this notebook file back to GitHub.  To do that in Google Colab:\n",
        "1. File -> Save a Copy in GitHub\n",
        "2. Make sure your HDS5210 repository is selected\n",
        "3. Make sure the file name includes the week number like this: `week02/week02_assignment_1.ipynb`\n",
        "4. Add a commit message that means something\n",
        "\n",
        "**Be sure week names are lowercase and use a two digit week number!!**\n",
        "\n",
        "**Be sure you use the same file name provided by the instructor!!**\n",
        "\n"
      ]
    }
  ],
  "metadata": {
    "kernelspec": {
      "display_name": "Python 3 (ipykernel)",
      "language": "python",
      "name": "python3"
    },
    "language_info": {
      "codemirror_mode": {
        "name": "ipython",
        "version": 3
      },
      "file_extension": ".py",
      "mimetype": "text/x-python",
      "name": "python",
      "nbconvert_exporter": "python",
      "pygments_lexer": "ipython3",
      "version": "3.13.0"
    },
    "colab": {
      "provenance": [],
      "include_colab_link": true
    }
  },
  "nbformat": 4,
  "nbformat_minor": 0
}