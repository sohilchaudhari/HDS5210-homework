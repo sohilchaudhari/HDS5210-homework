{
  "cells": [
    {
      "cell_type": "markdown",
      "metadata": {
        "id": "view-in-github",
        "colab_type": "text"
      },
      "source": [
        "<a href=\"https://colab.research.google.com/github/sohilchaudhari/HDS5210-homework/blob/main/week12_assignment_2.ipynb\" target=\"_parent\"><img src=\"https://colab.research.google.com/assets/colab-badge.svg\" alt=\"Open In Colab\"/></a>"
      ]
    },
    {
      "cell_type": "markdown",
      "metadata": {
        "id": "KbQZpWI_azIO"
      },
      "source": [
        "# Week 11 Assignment\n",
        "\n",
        "\n",
        "Please do the programming exercise and verify that your code works using the tests, then think about your final project and fill out the questions in the second part.\n",
        "\n",
        "---\n",
        "---"
      ]
    },
    {
      "cell_type": "markdown",
      "metadata": {
        "id": "SIEacghbazIP"
      },
      "source": [
        "### 47.1: Filtering and summarizing data\n",
        "\n",
        "For this work, you'll find a data file in `https://hds5210-data.s3.amazonaws.com/complications_all.csv`.\n",
        "\n",
        "Read in the data file and create a variable called `mo_hospitals` that contains a data frame from the `complications_all.csv` file, filtered down to only contain those hospitals from the state of Missouri (MO).\n",
        "\n",
        "Then aggregate that data by hospital into a variable named `mo_summary`.  There are some key fields that we want to summarize:\n",
        "* We want to know the earliest date that each hospital was participating in any program\n",
        "* We want to know the latest date that each hospital stopped participating in any program\n",
        "* We want to know the total number of patients in the denominators of these programs\n",
        "\n",
        "Some things to note:\n",
        "* You will need to convert the `Start Date` and `End Date` to actual datetime fields\n",
        "* You will need to clean up and convert the `Denominator` field to just be numeric - the rule that you should use it to simply remove any records where the `Denominator` is `'Not Available'`\n",
        "\n",
        "\n",
        "The final result of this step should be a new data frame called `mo_summary` that contains one row for each hospital and contains the min start date, max end date, and total denominator.  Use the names `start_date`, `end_date`, and `number` for those columns in `mo_summary`.\n",
        "\n",
        "\n",
        "You do not need to create your code in the form of a function, just make sure your variable names match what I've described above so the tests work."
      ]
    },
    {
      "cell_type": "code",
      "execution_count": 1,
      "metadata": {
        "id": "a2uSOBWpazIR"
      },
      "outputs": [],
      "source": [
        "import pandas as pd\n",
        "# This is just to show you the name to use for the variable you need to create for this step to pass.\n",
        "all_hospitals = pd.read_csv('https://hds5210-data.s3.amazonaws.com/complications_all.csv')\n"
      ]
    },
    {
      "cell_type": "code",
      "source": [
        "mo_hospitals = all_hospitals[all_hospitals['State'] == 'MO']"
      ],
      "metadata": {
        "id": "d2hrbQG2dTgV"
      },
      "execution_count": 2,
      "outputs": []
    },
    {
      "cell_type": "code",
      "source": [
        "assert(mo_hospitals['State'].unique() == ['MO'])\n",
        "assert(mo_hospitals.shape == (2133,18))"
      ],
      "metadata": {
        "id": "rsbifS56dx56"
      },
      "execution_count": 3,
      "outputs": []
    },
    {
      "cell_type": "code",
      "source": [
        "mo_hospitals['number'] = pd.to_numeric(mo_hospitals['Denominator'], errors='coerce', downcast='integer')\n",
        "mo_hospitals['start_date'] = pd.to_datetime(mo_hospitals['Start Date'], format='%m/%d/%Y', errors='coerce')\n",
        "mo_hospitals['end_date'] = pd.to_datetime(mo_hospitals['End Date'], format='%m/%d/%Y', errors='coerce')\n",
        "mo_summary = mo_hospitals.groupby('Facility Name').agg({'number':'sum', 'start_date':'min', 'end_date':'max'})\n",
        "mo_summary = mo_summary[mo_summary['number'] > 0]\n"
      ],
      "metadata": {
        "colab": {
          "base_uri": "https://localhost:8080/"
        },
        "id": "ou729JYDd4ZE",
        "outputId": "5ae6a432-4824-4ea8-90a9-32d85397c2cd"
      },
      "execution_count": 4,
      "outputs": [
        {
          "output_type": "stream",
          "name": "stderr",
          "text": [
            "<ipython-input-4-32053f9cd13e>:1: SettingWithCopyWarning: \n",
            "A value is trying to be set on a copy of a slice from a DataFrame.\n",
            "Try using .loc[row_indexer,col_indexer] = value instead\n",
            "\n",
            "See the caveats in the documentation: https://pandas.pydata.org/pandas-docs/stable/user_guide/indexing.html#returning-a-view-versus-a-copy\n",
            "  mo_hospitals['number'] = pd.to_numeric(mo_hospitals['Denominator'], errors='coerce', downcast='integer')\n",
            "<ipython-input-4-32053f9cd13e>:2: SettingWithCopyWarning: \n",
            "A value is trying to be set on a copy of a slice from a DataFrame.\n",
            "Try using .loc[row_indexer,col_indexer] = value instead\n",
            "\n",
            "See the caveats in the documentation: https://pandas.pydata.org/pandas-docs/stable/user_guide/indexing.html#returning-a-view-versus-a-copy\n",
            "  mo_hospitals['start_date'] = pd.to_datetime(mo_hospitals['Start Date'], format='%m/%d/%Y', errors='coerce')\n",
            "<ipython-input-4-32053f9cd13e>:3: SettingWithCopyWarning: \n",
            "A value is trying to be set on a copy of a slice from a DataFrame.\n",
            "Try using .loc[row_indexer,col_indexer] = value instead\n",
            "\n",
            "See the caveats in the documentation: https://pandas.pydata.org/pandas-docs/stable/user_guide/indexing.html#returning-a-view-versus-a-copy\n",
            "  mo_hospitals['end_date'] = pd.to_datetime(mo_hospitals['End Date'], format='%m/%d/%Y', errors='coerce')\n"
          ]
        }
      ]
    },
    {
      "cell_type": "code",
      "source": [
        "print(mo_summary)"
      ],
      "metadata": {
        "colab": {
          "base_uri": "https://localhost:8080/"
        },
        "id": "C9Q476S4eIX7",
        "outputId": "b1866ec2-d95d-493d-d96c-b3528bd779df"
      },
      "execution_count": 5,
      "outputs": [
        {
          "output_type": "stream",
          "name": "stdout",
          "text": [
            "                                       number start_date   end_date\n",
            "Facility Name                                                      \n",
            "BARNES JEWISH HOSPITAL               131313.0 2015-04-01 2018-06-30\n",
            "BARNES-JEWISH ST PETERS HOSPITAL      15668.0 2015-04-01 2018-06-30\n",
            "BARNES-JEWISH WEST COUNTY HOSPITAL     9622.0 2015-04-01 2018-06-30\n",
            "BATES COUNTY MEMORIAL HOSPITAL         3117.0 2015-04-01 2018-06-30\n",
            "BELTON REGIONAL MEDICAL CENTER         9270.0 2015-04-01 2018-06-30\n",
            "...                                       ...        ...        ...\n",
            "TRUMAN MEDICAL CENTER LAKEWOOD         4297.0 2015-04-01 2018-06-30\n",
            "UNIVERSITY OF MISSOURI HEALTH CARE    56493.0 2015-04-01 2018-06-30\n",
            "WASHINGTON COUNTY MEMORIAL HOSPITAL     220.0 2015-04-01 2018-06-30\n",
            "WESTERN MISSOURI MEDICAL CENTER        7254.0 2015-04-01 2018-06-30\n",
            "WRIGHT MEMORIAL HOSPITAL                198.0 2015-04-01 2018-06-30\n",
            "\n",
            "[108 rows x 3 columns]\n"
          ]
        }
      ]
    },
    {
      "cell_type": "code",
      "execution_count": 6,
      "metadata": {
        "id": "FksOAJaRazIT"
      },
      "outputs": [],
      "source": [
        "assert(mo_summary['number'].sum() == 1766908)\n",
        "assert(mo_summary['start_date'].min() == pd.Timestamp(2015,4,1))\n",
        "assert(mo_summary['end_date'].max() == pd.Timestamp(2018,6,30))\n",
        "assert(mo_summary.shape == (108,3))\n",
        "assert(mo_summary.loc['BARNES JEWISH HOSPITAL'].number == 131313)\n",
        "assert(mo_summary.loc['BOONE HOSPITAL CENTER'].number == 63099)"
      ]
    },
    {
      "cell_type": "markdown",
      "metadata": {
        "id": "ooL3-4uaazIT"
      },
      "source": [
        "---\n",
        "\n",
        "### 47.2 Planning your final project\n",
        "\n",
        "You should be thinking about the things we've been learning and how you can apply them to your final project.  Use the rubric to help guid your thinking and then answer the questions below.  This is meant as a guide to help you think through what you will do."
      ]
    },
    {
      "cell_type": "markdown",
      "source": [],
      "metadata": {
        "id": "yxbL8ruXg14m"
      }
    },
    {
      "cell_type": "markdown",
      "metadata": {
        "id": "yz4OzuIlazIT"
      },
      "source": [
        "#### A) Data Access\n",
        "\n",
        "Your project should include data from at least three distinct types of sources.  For example: AWS S3, Relational Databases, Internet, Web Services, local files.  List what data sources you're planning to use."
      ]
    },
    {
      "cell_type": "markdown",
      "metadata": {
        "id": "3jVlbnFgazIU"
      },
      "source": [
        "**Double-click to enter your answer**\n",
        "\n",
        "HealthData.gov:\n",
        "Provides public health indicators, healthcare costs, and resources for health analysis.\n",
        " https://healthdata.gov/\n",
        "Kaggle:\n",
        "Offers public datasets, including USA hospital data for healthcare infrastructure analysis.\n",
        "https://www.kaggle.com/datasets/carlosaguayo/usa-hospitals\n",
        "United States Census Bureau:\n",
        "Provides demographic and economic data useful for population and healthcare trends.\n",
        "https://www.census.gov/search-results.html?q=hospitals+in+Missouri&page=1&stateGeo=none&searchtype=web&cssp=SERP&_charset_=UTF-8\n",
        "CMS (Centers for Medicare & Medicaid Services):\n",
        "Offers healthcare-related economic data, including Medicare and Medicaid information.\n",
        "https://data.cms.gov/search\n"
      ]
    },
    {
      "cell_type": "markdown",
      "metadata": {
        "id": "yWUcNLk3azIU"
      },
      "source": [
        "#### B. Data Formats\n",
        "\n",
        "Your project should include data that comes in different file formats.  For example: HL7, EDI, HTML, CSV, Excel, JSON, XML.  List what data formats you're planning to use."
      ]
    },
    {
      "cell_type": "markdown",
      "metadata": {
        "id": "Jd6S5-0XazIU"
      },
      "source": [
        "**Double-click to enter your answer**\n",
        "\n",
        "1.CSV:\n",
        "good for handling large datasets, CSV files will be used for their simplicity and compatibility with most data analysis tools.\n",
        "2.Excel:\n",
        "Used for structured data in table format, particularly beneficial for datasets that need specific formatting or are already organized in Excel for ease of use and analysis.\n",
        "3.JSON (JavaScript Object Notation):\n",
        "Useful for handling data from web APIs or configurations, JSON format is great for its readability and easy parsing.\n",
        "4.XML (eXtensible Markup Language):\n",
        "For structured data from various web sources or systems that use XML for data exchange.\n"
      ]
    },
    {
      "cell_type": "markdown",
      "metadata": {
        "id": "mIXjx5eMazIU"
      },
      "source": [
        "#### C. Objective\n",
        "\n",
        "What purpose would your project serve in a real work setting?  Take a couple of paragraphs to write down why this is an interesting product."
      ]
    },
    {
      "cell_type": "markdown",
      "metadata": {
        "id": "l2fZc54TazIV"
      },
      "source": [
        "**Double-click to enter your answer**\n",
        "\n",
        "In my project, I am focusing on assessing the distribution and availability of hospital services across Missouri, with a special emphasis on identifying areas lacking critical medical services. By analyzing data from various hospitals in the state, I am examining factors such as the range of services offered, patient capacity, and geographical locations. The goal is to create a comprehensive map that illustrates the spread of healthcare services and highlights underserved regions. This analysis will provide insights into the types of medical services disproportionately lacking in specific areas, such as emergency care, specialized treatments, or mental health services.\n",
        "\n",
        "The practical application of this project is significant. It can serve as a valuable tool for healthcare policymakers and hospital administrators, helping them strategically address gaps in healthcare access. By identifying the exact nature and location of service shortfalls, this project can guide targeted improvements and resource allocation, ensuring that new or expanded healthcare facilities are established where they are needed most. This initiative has the potential to enhance healthcare equity and improve outcomes for underserved communities in Missouri.\n",
        "\n",
        "\n",
        "\n",
        "\n",
        "\n",
        "\n",
        "\n"
      ]
    },
    {
      "cell_type": "markdown",
      "metadata": {
        "id": "HcGjjd3XazIV"
      },
      "source": [
        "\n",
        "\n",
        "---\n",
        "\n",
        "\n",
        "\n",
        "## Submit your work via GitHub as normal\n"
      ]
    }
  ],
  "metadata": {
    "kernelspec": {
      "display_name": "Python 3",
      "language": "python",
      "name": "python3"
    },
    "language_info": {
      "codemirror_mode": {
        "name": "ipython",
        "version": 3
      },
      "file_extension": ".py",
      "mimetype": "text/x-python",
      "name": "python",
      "nbconvert_exporter": "python",
      "pygments_lexer": "ipython3",
      "version": "3.9.16"
    },
    "colab": {
      "provenance": [],
      "include_colab_link": true
    }
  },
  "nbformat": 4,
  "nbformat_minor": 0
}