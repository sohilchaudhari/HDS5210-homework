{
  "cells": [
    {
      "cell_type": "markdown",
      "metadata": {
        "id": "lNy-iL14k8Sx"
      },
      "source": [
        "# HDS5210-2024 Midterm\n",
        "\n",
        "In the midterm, you're going to use all the programming and data management skills you've developed so far to build a risk calculator that pretends to be integrated with a clinical registry.  You'll compute the PRIEST COVID-19 Clinical Severity Score for a series of patients and, based on their risk of an adverse outcome, query a REST web service to find a hospital to transfer them to. The end result of your work will be a list of instructions on where each patient should be discharged given their risk and various characteristics of the patient.\n",
        "\n",
        "Each step in the midterm will build up to form your complete solution.\n",
        "\n",
        "**Make sure you write good docstrings and doctests along the way!!**\n",
        "\n",
        "**The midterm is due at 11:59 PM CST on Monday, October 24th.**\n",
        "\n",
        "---"
      ]
    },
    {
      "cell_type": "markdown",
      "metadata": {
        "id": "W95c2STBk8Sz"
      },
      "source": [
        "## Step 1: Calculate PRIEST Clinical Severity Score\n",
        "\n",
        "This scoring algorithm can be found [here on the MDCalc website](https://www.mdcalc.com/priest-covid-19-clinical-severity-score#evidence).  \n",
        "\n",
        "1. You will need to write a function called **priest()** with the following input parameters.  \n",
        " * Sex (Gender assigned at birth)\n",
        " * Age in years\n",
        " * Respiratory rate in breaths per minute\n",
        " * Oxygen saturation as a percent between 0 and 1\n",
        " * Heart rate in beats per minute\n",
        " * Systolic BP in mmHg\n",
        " * Temperature in degrees C\n",
        " * Alertness as a string description\n",
        " * Inspired Oxygen as as string description\n",
        " * Performance Status as a string description\n",
        "2. The function will need to follow the algorithm provided on the MDCalc website to compute a risk percentage that should be returned as a numeric value between 0 and 1.\n",
        "3. Be sure to use docstring documentation and at least three built-in docstring test cases.\n",
        "4. Assume that the input values that are strings could be any combination of upper or lower case. For example: 'male', 'Male', 'MALE', 'MalE' should all be interpretted by your code as male.\n",
        "5. If any of the inputs are invalid (for example a sex value that is not recognizable as male or female) your code should return None.\n",
        "\n",
        "NOTES:\n",
        "1. In the final step there is a table that translates from **PRIEST Score** to **30-day probability of an outcome** but the last two probabilities are shown as ranges (59-88% and >99%).  Our code needs to output a single number, however. For our code, use the following rule:\n",
        " * If PRIEST score is between 17 and 25, the probability you return should be 0.59\n",
        " * If PRIEST score is greater than or equal to 26, the probability you return should be 0.99\n"
      ]
    },
    {
      "cell_type": "code",
      "execution_count": 8,
      "metadata": {
        "id": "mHQiw7Hyk8S1"
      },
      "outputs": [],
      "source": [
        "def priest(sex, age, respiratoryrate, oxygensaturation, heartrate, systabolicbp, temperature, alertness, inspoxygen, performancestatus):\n",
        "\n",
        "\n",
        "    \"\"\"\n",
        "    (String, float, float, float, float, float, float, String, String, String) -> float\n",
        "\n",
        "    This function, priest(), computes the risk percentage based on the 'PRIEST COVID-19 Clinical Severity Score'.\n",
        "\n",
        "    The parameters include age, respiratoryrate, oxygensaturation, heartrate, systolicbp, temperature, alertness, inspoxygen, and performancestatus.\n",
        "    All are strings except for the parameters sex, alertness, inspoxygen, and performancestatus, which take other data types. The function returns a float representing the risk score.\n",
        "\n",
        "    >>> priest(\"female\", 40, 23, 0.94, 105, 115, 36.3, \"ALERT\", \"AIR\", \"unrestricted normal activity\")\n",
        "    0.03\n",
        "\n",
        "    >>> priest(\"Male\", 85, 10, 0.96, 105, 115, 38.1, \"Confused or Not Alert\", \"supplemental oxygen\", \"unrestricted normal activity\")\n",
        "    0.46\n",
        "\n",
        "    >>> priest(\"Female\", 85, 22, 0.96, 105, 115, 38.1, \"ALERT\", \"supplemental oxygen\", \"unrestricted normal activity\")\n",
        "    0.29\n",
        "    \"\"\"\n",
        "\n",
        "\n",
        "\n",
        "    priestscorecount=0\n",
        "    if inspoxygen.upper() == \"SUPPLEMENTAL OXYGEN\":\n",
        "        priestscorecount = priestscorecount +  2\n",
        "\n",
        "    if performancestatus.upper() == \"LIMITED SELF-CARE\":\n",
        "        priestscorecount = priestscorecount +  3\n",
        "    elif performancestatus.upper() == \"LIMITED ACTIVITY, CAN SELF-CARE\":\n",
        "        priestscorecount = priestscorecount +  2\n",
        "    if performancestatus.upper() == \"LIMITED STRENUOUS ACTIVITY, CAN DO LIGHT ACTIVITY\":\n",
        "        priestscorecount = priestscorecount +  1\n",
        "    elif performancestatus.upper() == \"BED/CHAIR BOUND, NO SELF-CARE\":\n",
        "        priestscorecount = priestscorecount +  4\n",
        "\n",
        "    if sex.upper() == \"MALE\":\n",
        "        priestscorecount = priestscorecount + 1\n",
        "\n",
        "    if alertness.upper() == \"CONFUSED OR NOT ALERT\":\n",
        "        priestscorecount = priestscorecount +  3\n",
        "\n",
        "\n",
        "    if age > 80:\n",
        "        priestscorecount = priestscorecount + 4\n",
        "    elif age >= 50 and age<=65:\n",
        "        priestscorecount = priestscorecount + 2\n",
        "    elif age >= 66 and age<=80:\n",
        "        priestscorecount = priestscorecount + 3\n",
        "\n",
        "    if oxygensaturation < 0.92:\n",
        "        priestscorecount = priestscorecount +  3\n",
        "    elif oxygensaturation <= 0.95 and oxygensaturation >= 0.94:\n",
        "        priestscorecount = priestscorecount +  1\n",
        "    elif  oxygensaturation <= 0.93 and oxygensaturation >= 0.92:\n",
        "        priestscorecount = priestscorecount +  2\n",
        "\n",
        "    if temperature > 39.0:\n",
        "        priestscorecount = priestscorecount +  2\n",
        "    elif temperature >= 38.1 and temperature <= 39.0:\n",
        "        priestscorecount = priestscorecount +  1\n",
        "    if temperature < 35.1:\n",
        "        priestscorecount = priestscorecount +  3\n",
        "    elif temperature >= 35.1 and temperature <= 36.0:\n",
        "        priestscorecount = priestscorecount +  1\n",
        "\n",
        "    if respiratoryrate < 9:\n",
        "        priestscorecount = priestscorecount +  3\n",
        "    elif respiratoryrate >= 21 and respiratoryrate <= 24:\n",
        "        priestscorecount = priestscorecount +  2\n",
        "    elif respiratoryrate >= 9 and respiratoryrate <= 11:\n",
        "        priestscorecount = priestscorecount +  1\n",
        "    elif respiratoryrate > 24:\n",
        "        priestscorecount = priestscorecount +  3\n",
        "\n",
        "    if systabolicbp > 219:\n",
        "        priestscorecount = priestscorecount +  3\n",
        "    elif systabolicbp >= 101 and systabolicbp <= 110:\n",
        "        priestscorecount = priestscorecount +  1\n",
        "    elif systabolicbp >= 91 and systabolicbp <= 100:\n",
        "        priestscorecount = priestscorecount +  2\n",
        "    elif systabolicbp < 91:\n",
        "        priestscorecount = priestscorecount +  3\n",
        "\n",
        "    if heartrate > 130:\n",
        "        priestscorecount = priestscorecount +  3\n",
        "    elif heartrate >= 111 and heartrate <= 130:\n",
        "        priestscorecount = priestscorecount +  2\n",
        "    elif heartrate >= 91 and heartrate <= 110:\n",
        "        priestscorecount = priestscorecount +  1\n",
        "    elif heartrate < 41:\n",
        "        priestscorecount = priestscorecount +  3\n",
        "    elif heartrate >= 41 and heartrate <= 50:\n",
        "        priestscorecount = priestscorecount +  1\n",
        "\n",
        "\n",
        "\n",
        "\n",
        "\n",
        "    r_per = [0.01, 0.01, 0.02, 0.02, 0.03, 0.09, 0.15, 0.18, 0.22, 0.26, 0.29, 0.34, 0.38, 0.46, 0.47, 0.49, 0.55, 0.59, 0.59, 0.59, 0.59, 0.59, 0.59, 0.59, 0.59, 0.59,0.99]\n",
        "    if priestscorecount >= 26:\n",
        "        return 0.99\n",
        "    else:\n",
        "        return r_per[priestscorecount]"
      ]
    },
    {
      "cell_type": "code",
      "execution_count": 9,
      "metadata": {
        "id": "oKMU_bOjk8S1",
        "outputId": "9813b419-b8de-49a3-e9c0-94ea1585859a",
        "colab": {
          "base_uri": "https://localhost:8080/"
        }
      },
      "outputs": [
        {
          "output_type": "stream",
          "name": "stdout",
          "text": [
            "Finding tests in NoName\n",
            "Trying:\n",
            "    priest(\"female\", 40, 23, 0.94, 105, 115, 36.3, \"ALERT\", \"AIR\", \"unrestricted normal activity\")\n",
            "Expecting:\n",
            "    0.03\n",
            "ok\n",
            "Trying:\n",
            "    priest(\"Male\", 85, 10, 0.96, 105, 115, 38.1, \"Confused or Not Alert\", \"supplemental oxygen\", \"unrestricted normal activity\")\n",
            "Expecting:\n",
            "    0.46\n",
            "ok\n",
            "Trying:\n",
            "    priest(\"Female\", 85, 22, 0.96, 105, 115, 38.1, \"ALERT\", \"supplemental oxygen\", \"unrestricted normal activity\")\n",
            "Expecting:\n",
            "    0.29\n",
            "ok\n"
          ]
        }
      ],
      "source": [
        "import doctest\n",
        "doctest.run_docstring_examples(priest, globals(),verbose=True)"
      ]
    },
    {
      "cell_type": "markdown",
      "metadata": {
        "id": "AiothooTk8S2"
      },
      "source": [
        "## Part 2: Find a hospital\n",
        "\n",
        "The next thing we have to do is figure out where to send this particular patient.  The guidelines on where to send a patient are based on their age (pediatric, adult, geriatric), sex, and risk percentage.  Luckily, you don't have to implement these rules. I already have. All you have to do is use a REST web service that I've created for you.\n",
        "\n",
        "You'll want to use Python to make a call to my REST web service similar to the example URL below. The first part of the URL will be the same for everyone and every request that you make. What you will need to modify for each of your requests is the information after the question mark.\n",
        "\n",
        "```\n",
        "https://oumdj6oci2.execute-api.us-east-1.amazonaws.com/prd/?age=40&sex=male&risk_pct=0.1\n",
        "```\n",
        "\n",
        "The example above asks my web service where a 40-year old male with a risk of 10% should go.  What the web service will return back is a JSON string containing the information you need.  That JSON will look like this:\n",
        "\n",
        "```json\n",
        "{\n",
        "  \"age\": \"40\",\n",
        "  \"sex\": \"male\",\n",
        "  \"risk\": \"0.1\",\n",
        "  \"hospital\": \"Southwest Hospital and Medical Center\"\n",
        "}\n",
        "```\n",
        "\n",
        "My function is not smart enough to understand `'MALE'` is the same as `'male'`.  You have to send it exactly `'male'` or `'female'`\n",
        "\n",
        "1. Your job is to write a function called **find_hospital()** that takes age, sex, and risk as parameters.\n",
        "2. Your function should call this REST web service using the `requests` module\n",
        "3. Then your function will need to interpret the JSON it gets and return just the name of the hospital\n",
        "4. If anything fails, return None\n",
        "5. Include a good docstring with at least three test cases.\n"
      ]
    },
    {
      "cell_type": "code",
      "execution_count": 10,
      "metadata": {
        "id": "Y9_rpSBik8S3"
      },
      "outputs": [],
      "source": [
        "import requests\n",
        "import csv\n",
        "import json\n",
        "\n",
        "\n",
        "def find_hospital(age, sex, r_per):\n",
        "\n",
        "\n",
        "    \"\"\"\n",
        "    (integer, String, float) -> String\n",
        "\n",
        "    The find_hospital() function determines the most suitable hospital based on age, sex, and risk percentage.\n",
        "\n",
        "    This function takes three parameters: age (integer), sex (string), and riskPerc (float). It returns the name of the appropriate hospital as a string.\n",
        "\n",
        "    >>> find_hospital(65, \"male\", 0.18)\n",
        "    'Wesley Woods Geriatric Hospital'\n",
        "\n",
        "    >>> find_hospital(40, \"male\", 0.26)\n",
        "    'Southwest Hospital and Medical Center'\n",
        "\n",
        "    >>> find_hospital(40, \"FEMALE\", 0.18)\n",
        "    'Select Specialty Hospital - Northeast Atlanta'\n",
        "    \"\"\"\n",
        "\n",
        "    url = \"https://oumdj6oci2.execute-api.us-east-1.amazonaws.com/prd/\"\n",
        "    qu={\"age\":age,\"sex\":sex.lower(),\"risk_pct\":r_per}\n",
        "    yout = requests.get(url, params=qu)\n",
        "    return (yout.json())['hospital']\n",
        "\n",
        "\n",
        "\n",
        ""
      ]
    },
    {
      "cell_type": "code",
      "execution_count": 11,
      "metadata": {
        "id": "OcdI5fAZk8S3",
        "outputId": "169b1c5f-2a5e-4975-b163-48edccdddd75",
        "colab": {
          "base_uri": "https://localhost:8080/"
        }
      },
      "outputs": [
        {
          "output_type": "stream",
          "name": "stdout",
          "text": [
            "Finding tests in NoName\n",
            "Trying:\n",
            "    find_hospital(65, \"male\", 0.18)\n",
            "Expecting:\n",
            "    'Wesley Woods Geriatric Hospital'\n",
            "ok\n",
            "Trying:\n",
            "    find_hospital(40, \"male\", 0.26)\n",
            "Expecting:\n",
            "    'Southwest Hospital and Medical Center'\n",
            "ok\n",
            "Trying:\n",
            "    find_hospital(40, \"FEMALE\", 0.18)\n",
            "Expecting:\n",
            "    'Select Specialty Hospital - Northeast Atlanta'\n",
            "ok\n"
          ]
        }
      ],
      "source": [
        "import doctest\n",
        "doctest.run_docstring_examples(find_hospital, globals(),verbose=True)"
      ]
    },
    {
      "cell_type": "markdown",
      "metadata": {
        "id": "foUmZSQVk8S4"
      },
      "source": [
        "## Part 3: Get the address for that hospital from a JSON file\n",
        "\n",
        "Great! Now we have code to tell us which hospital to send someone to... but we don't know where that hospital is. The next function we need to create is one that looks up the address of that hospital.  All of these hospitals are in Atlanta, Georgia.  We're going to use the list from this webpage to lookup the address for that hospital, based on its name.  https://www.officialusa.com/stateguides/health/hospitals/georgia.html\n",
        "\n",
        "Because we skipped the section about Beautiful Soup and working with HTML, I've converted this information into a JSON document for you.  It's available for you here.  Your code should retrieve this file using the `requests` module.\n",
        "\n",
        "`https://drive.google.com/uc?export=download&id=1fIFD-NkcdiMu941N4GjyMDWxiKsFJBw-`\n",
        "\n",
        "1. You need to create a function called **get_address()** that takes hospital name as a parameter and searches the data from this JSON file for the hospital you want to find.\n",
        "2. Your code will have to load the JSON and return the correct hospital based on name.\n",
        "3. If the hospital name isn't found, the function should return None.\n",
        "4. Be sure to use good docstring documentation and includes at least 3 test cases."
      ]
    },
    {
      "cell_type": "code",
      "execution_count": 12,
      "metadata": {
        "id": "510DQ6Ukk8S4"
      },
      "outputs": [],
      "source": [
        "def get_address(hospital):\n",
        "    \"\"\"\n",
        "    (String) -> String\n",
        "\n",
        "    The get_address() function retrieves the hospital's address using data from a URL.\n",
        "\n",
        "    It accepts the hospital name as a string argument and returns the corresponding address as a string.\n",
        "\n",
        "    >>> get_address(\"Emory Dunwoody Medical Center\")\n",
        "    '4500 NORTH SHALLOWFORD ROAD'\n",
        "\n",
        "    >>> get_address(\"Wesley Woods Geriatric Hospital\")\n",
        "    '1821 CLIFTON ROAD, NE'\n",
        "\n",
        "    >>> get_address(\"Select Specialty Hospital - Northeast Atlanta\")\n",
        "    '1821 CLIFTON ROAD, NE'\n",
        "    \"\"\"\n",
        "\n",
        "\n",
        "    out = requests.get(\"https://hds5210-data.s3.amazonaws.com/ga_hospitals.json\")\n",
        "    y = out.json()\n",
        "    if hospital.upper() in y:\n",
        "        return y[hospital.upper()][\"ADDRESS\"]\n",
        "    else:\n",
        "        return \"No Value\""
      ]
    },
    {
      "cell_type": "markdown",
      "metadata": {
        "id": "SPWSVZ8-k8S4"
      },
      "source": [
        "## Part 4: Run the risk calculator on a population\n",
        "\n",
        "At the link below, there is a file called `people.psv`.  It is a pipe-delimited (`|`) file with columns that match the inputs for the PRIEST calculation above.  Your code should use the `requests` module to retrieve the file from this URL.\n",
        "\n",
        "`https://drive.google.com/uc?export=download&id=1fLxJN9YGUqmqExrilxSS8furwUER5HHh`\n",
        "\n",
        "\n",
        "In addition, the file has a patient identifier in the first column.\n",
        "\n",
        "1. Write a function called **process_people()** that takes the file location above as its only parameter. Your Python program should use your code above to process all of these rows, determine the hospital and address, and return a list whose items are a dictionary like this: `{ patient_number: [sex, age, breath, o2sat, heart, systolic, temp, alertness, inspired, status, hospital, address]}`.  Look at the file in Part 5 for what the output looks like.\n",
        "2. Be sure to use good docstrings, but you don't need any tests in your doc strings.  I've provided those for you withe file in Part 5.\n",
        "\n",
        "\n",
        "**NOTE** that when running your code for all the 100 records in the `people.psv` file, it may take a few minutes to complete.  You're making multiple calls to the internet for each record, so that can take a little while.\n"
      ]
    },
    {
      "cell_type": "code",
      "execution_count": 13,
      "metadata": {
        "id": "N3dUXEDpk8S5"
      },
      "outputs": [],
      "source": [
        "import json\n",
        "import csv\n",
        "import requests\n",
        "\n",
        "def process_people(url):\n",
        "    \"\"\"\n",
        "    (String) -> Dictionary\n",
        "\n",
        "    The process_people() function generates all patient information, such as risk, hospital, and hospital address, in a dictionary format.\n",
        "\n",
        "    This function accepts a URL as its argument and returns a dictionary containing the complete patient data.\n",
        "\n",
        "    \"\"\"\n",
        "\n",
        "\n",
        "    out = requests.get(url)\n",
        "    alldata = csv.reader(out.text.split(\"\\n\"), delimiter='|')\n",
        "    next(alldata)\n",
        "    itrr = iter(alldata)\n",
        "    dictionaryAppend = {}\n",
        "    try:\n",
        "        while 1:\n",
        "            mnva = next(itrr)\n",
        "            pat, sex, age, respiratoryrate, oxygensaturation, heartrate, systabolicbp, temperature, alertness, inspoxygen, performancestatus = mnva[:11]\n",
        "            r_per = priest(sex, float(age), float(respiratoryrate), float(oxygensaturation), float(heartrate), float(systabolicbp), float(temperature), alertness, inspoxygen, performancestatus)\n",
        "            nameHos = find_hospital(int(age), sex, r_per)\n",
        "            dictionaryAppend[pat] = [sex, float(age), float(respiratoryrate), float(oxygensaturation), float(heartrate), float(systabolicbp), float(temperature), alertness, inspoxygen, performancestatus, r_per, nameHos, get_address(nameHos)]\n",
        "\n",
        "\n",
        "    except StopIteration:\n",
        "        return dictionaryAppend"
      ]
    },
    {
      "cell_type": "markdown",
      "metadata": {
        "id": "Z8lgHyIjk8S5"
      },
      "source": [
        "## Part 5: Checking your final results\n",
        "\n",
        "The final step is to check your results.  You should be able to compare your results to the output in `people_results.json` at the link below.  Write some code to check your results.  This does not need to be a function.\n",
        "\n",
        "`https://drive.google.com/uc?export=download&id=1gx1SSC20mO5XL6uYD0mdcM_cL91fcIW5`\n"
      ]
    },
    {
      "cell_type": "code",
      "execution_count": 14,
      "metadata": {
        "id": "zUGsq_hUk8S5",
        "outputId": "d0c04500-cd2f-4e9a-8041-ce2e8ecdc93c",
        "colab": {
          "base_uri": "https://localhost:8080/"
        }
      },
      "outputs": [
        {
          "output_type": "stream",
          "name": "stdout",
          "text": [
            "They Are Equal\n"
          ]
        }
      ],
      "source": [
        "import json\n",
        "import csv\n",
        "import requests\n",
        "\n",
        "\"\"\"\n",
        "This function compares the evaluated data from the above methods with the actual data obtained from the URL API to determine if they are equal or not.\n",
        "\"\"\"\n",
        "\n",
        "url = \"https://hds5210-data.s3.amazonaws.com/people_results.json\"\n",
        "out = requests.get(url)\n",
        "actualValue = out.json()\n",
        "evaluatedValue = process_people(\"https://hds5210-data.s3.amazonaws.com/people.psv\")\n",
        "e = json.loads(json.dumps(evaluatedValue))\n",
        "a = json.loads(json.dumps(actualValue))\n",
        "if e == a:\n",
        "    print(\"They Are Equal\")\n",
        "else:\n",
        "    print(\"They Are Not Equal\")"
      ]
    },
    {
      "cell_type": "markdown",
      "metadata": {
        "id": "Szci1nfzk8S6"
      },
      "source": [
        "---\n",
        "\n",
        "## Check your work above\n",
        "\n",
        "If you didn't get them all correct, take a few minutes to think through those that aren't correct.\n",
        "\n",
        "\n",
        "## Submitting Your Work\n",
        "\n",
        "Submit your work as usual into a folder named `midterm`"
      ]
    },
    {
      "cell_type": "markdown",
      "metadata": {
        "id": "HCznp75vk8S6"
      },
      "source": [
        "---"
      ]
    }
  ],
  "metadata": {
    "kernelspec": {
      "display_name": "Python 3",
      "language": "python",
      "name": "python3"
    },
    "language_info": {
      "codemirror_mode": {
        "name": "ipython",
        "version": 3
      },
      "file_extension": ".py",
      "mimetype": "text/x-python",
      "name": "python",
      "nbconvert_exporter": "python",
      "pygments_lexer": "ipython3",
      "version": "3.9.6"
    },
    "colab": {
      "provenance": []
    }
  },
  "nbformat": 4,
  "nbformat_minor": 0
}